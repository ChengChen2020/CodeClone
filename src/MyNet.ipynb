{
 "cells": [
  {
   "cell_type": "code",
   "execution_count": null,
   "metadata": {},
   "outputs": [],
   "source": [
    "import numpy as np\n",
    "import mxnet as mx\n",
    "from mxnet import gluon, autograd, nd, init\n",
    "from mxnet.gluon import nn, loss as gloss, data as gdata\n",
    "import time\n",
    "import pickle"
   ]
  },
  {
   "cell_type": "markdown",
   "metadata": {},
   "source": [
    "## evaluate accuracy"
   ]
  },
  {
   "cell_type": "code",
   "execution_count": null,
   "metadata": {},
   "outputs": [],
   "source": [
    "def evaluate_accuracy(data_iter, net):\n",
    "    acc_sum, n = 0.0, 0\n",
    "    for X, y in data_iter:\n",
    "        y = y.astype('float32')\n",
    "        acc_sum += ((net(X).reshape(-1) > 0.5) == y).sum().asscalar()\n",
    "        n += y.size\n",
    "    return acc_sum / n"
   ]
  },
  {
   "cell_type": "markdown",
   "metadata": {},
   "source": [
    "## load data"
   ]
  },
  {
   "cell_type": "code",
   "execution_count": null,
   "metadata": {},
   "outputs": [],
   "source": [
    "def load_data(path):\n",
    "    with open(path, 'rb') as f:\n",
    "        data = pickle.load(f)\n",
    "    return data\n",
    "\n",
    "my_data = load_data('./MyData1.pkl')\n",
    "my_data_ = load_data('./MyData2.pkl')\n",
    "X, y = my_data['X'], my_data['y']\n",
    "X, y = X.astype('float32'), y.astype('float32')\n",
    "X_, y_ = my_data_['X_'], my_data_['y_']\n",
    "X_, y_ = X_.astype('float32'), y_.astype('float32')\n",
    "X_.shape, y_.shape"
   ]
  },
  {
   "cell_type": "code",
   "execution_count": null,
   "metadata": {},
   "outputs": [],
   "source": [
    "X_train, y_train, X_test, y_test = X, y, X_, y_\n",
    "X_train.shape, y_train.shape, X_test.shape, y_test.shape"
   ]
  },
  {
   "cell_type": "code",
   "execution_count": null,
   "metadata": {},
   "outputs": [],
   "source": [
    "batch_size = 640\n",
    "\n",
    "dataset_train = gdata.ArrayDataset(X_train, y_train)\n",
    "dataset_test = gdata.ArrayDataset(X_test, y_test)\n",
    "train_iter = gdata.DataLoader(dataset_train, batch_size, shuffle=True)\n",
    "test_iter = gdata.DataLoader(dataset_test, batch_size, shuffle=True)"
   ]
  },
  {
   "cell_type": "markdown",
   "metadata": {},
   "source": [
    "## MLP"
   ]
  },
  {
   "cell_type": "code",
   "execution_count": null,
   "metadata": {},
   "outputs": [],
   "source": [
    "def MyNet():\n",
    "    net = nn.Sequential()\n",
    "    net.add(\n",
    "            nn.Dense(512, activation='relu'),\n",
    "            nn.Dense(256, activation='relu'), \n",
    "            nn.Dense(128, activation='relu'),\n",
    "            nn.Dense(1))\n",
    "    return net\n",
    "\n",
    "from sklearn.metrics import f1_score\n",
    "def train(net, train_iter, test_iter, num_epochs, batch_size, trainer):\n",
    "    loss = gloss.L2Loss()\n",
    "    show_freq = 1\n",
    "    start_ = time.time()\n",
    "    for epoch in range(num_epochs):\n",
    "        train_l_sum, train_acc_sum, n, test_f1 = 0.0, 0.0, 0, 0.0\n",
    "        if (epoch+1) % show_freq == 1:\n",
    "            start = time.time()\n",
    "        for X, y in train_iter:\n",
    "            with autograd.record():\n",
    "                y_hat = net(X).reshape(-1)\n",
    "                l = loss(y_hat, y).sum()\n",
    "            l.backward()\n",
    "            trainer.step(batch_size)\n",
    "            y.astype('float32')\n",
    "            train_l_sum += l.asscalar()\n",
    "            train_acc_sum += ((y_hat > 0.5) == y).sum().asscalar()\n",
    "            n += y.size\n",
    "        y_hat = net(nd.array(X_test)).reshape(-1)\n",
    "        y_pred = [int(i.asscalar()>0.5) for i in y_hat]\n",
    "        test_f1 = f1_score(y_test, y_pred)\n",
    "        test_acc = evaluate_accuracy(test_iter, net)\n",
    "        if (epoch+1) % show_freq == 0:\n",
    "            time_consumed = time.time() - start_\n",
    "            print('epoch: {}, train_loss: {:.4f}, train_acc: {:.4f}, test_f1:{:.4f}, test_acc:{:.4f},\\\n",
    "time_consumed :{:.2f} s)'.\n",
    "                  format(epoch+1, train_l_sum/n, train_acc_sum/n, test_f1, test_acc, time_consumed))"
   ]
  },
  {
   "cell_type": "code",
   "execution_count": null,
   "metadata": {},
   "outputs": [],
   "source": [
    "net = MyNet()\n",
    "net"
   ]
  },
  {
   "cell_type": "markdown",
   "metadata": {},
   "source": [
    "## training"
   ]
  },
  {
   "cell_type": "code",
   "execution_count": null,
   "metadata": {},
   "outputs": [],
   "source": [
    "net = MyNet()\n",
    "net.initialize()\n",
    "\n",
    "\n",
    "lr = 0.01 # num 100\n",
    "trainer = gluon.Trainer(net.collect_params(), 'sgd', {'learning_rate': lr})"
   ]
  },
  {
   "cell_type": "code",
   "execution_count": null,
   "metadata": {},
   "outputs": [],
   "source": [
    "num_epochs = 70\n",
    "train(net, train_iter, test_iter, num_epochs, batch_size, trainer)"
   ]
  },
  {
   "cell_type": "code",
   "execution_count": null,
   "metadata": {},
   "outputs": [],
   "source": [
    "net.save_parameters(\"MyNet.pth\")"
   ]
  },
  {
   "cell_type": "markdown",
   "metadata": {},
   "source": [
    "## prediction"
   ]
  },
  {
   "cell_type": "code",
   "execution_count": null,
   "metadata": {},
   "outputs": [],
   "source": [
    "vec = load_data('./TestVec.pkl')\n",
    "vec = vec.reshape(-1,2,73)\n",
    "vec.shape"
   ]
  },
  {
   "cell_type": "code",
   "execution_count": null,
   "metadata": {},
   "outputs": [],
   "source": [
    "a = net(nd.array(vec))"
   ]
  },
  {
   "cell_type": "code",
   "execution_count": null,
   "metadata": {},
   "outputs": [],
   "source": [
    "a"
   ]
  },
  {
   "cell_type": "code",
   "execution_count": null,
   "metadata": {},
   "outputs": [],
   "source": [
    "b = [int(i.asscalar()>0.5) for i in a]"
   ]
  },
  {
   "cell_type": "code",
   "execution_count": null,
   "metadata": {},
   "outputs": [],
   "source": [
    "b.count(1)"
   ]
  },
  {
   "cell_type": "code",
   "execution_count": null,
   "metadata": {},
   "outputs": [],
   "source": [
    "import pandas as pd\n",
    "test = pd.read_csv('sample_submission.csv')\n",
    "test.predictions = b"
   ]
  },
  {
   "cell_type": "code",
   "execution_count": null,
   "metadata": {},
   "outputs": [],
   "source": [
    "test.to_csv('1.csv', index=False)"
   ]
  }
 ],
 "metadata": {
  "kernelspec": {
   "display_name": "Python 3",
   "language": "python",
   "name": "python3"
  },
  "language_info": {
   "codemirror_mode": {
    "name": "ipython",
    "version": 3
   },
   "file_extension": ".py",
   "mimetype": "text/x-python",
   "name": "python",
   "nbconvert_exporter": "python",
   "pygments_lexer": "ipython3",
   "version": "3.7.7"
  }
 },
 "nbformat": 4,
 "nbformat_minor": 2
}
