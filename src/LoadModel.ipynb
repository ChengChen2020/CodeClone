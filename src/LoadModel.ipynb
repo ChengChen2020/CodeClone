{
 "cells": [
  {
   "cell_type": "code",
   "execution_count": null,
   "metadata": {},
   "outputs": [],
   "source": [
    "import pickle\n",
    "import pandas as pd\n",
    "from mxnet.gluon import nn\n",
    "from mxnet import nd"
   ]
  },
  {
   "cell_type": "code",
   "execution_count": null,
   "metadata": {},
   "outputs": [],
   "source": [
    "def load_data(path):\n",
    "    with open(path, 'rb') as f:\n",
    "        data = pickle.load(f)\n",
    "    return data"
   ]
  },
  {
   "cell_type": "code",
   "execution_count": null,
   "metadata": {},
   "outputs": [],
   "source": [
    "vec = load_data('./TestVec.pkl')\n",
    "vec = vec.reshape(-1,2,73)\n",
    "vec.shape"
   ]
  },
  {
   "cell_type": "code",
   "execution_count": null,
   "metadata": {},
   "outputs": [],
   "source": [
    "def MyNet():\n",
    "    net = nn.Sequential()\n",
    "    net.add(\n",
    "            nn.Dense(512, activation='relu'),\n",
    "            nn.Dense(256, activation='relu'), \n",
    "            nn.Dense(128, activation='relu'),\n",
    "            nn.Dense(1))\n",
    "    return net\n",
    "\n",
    "l_net = MyNet()\n",
    "l_net.load_parameters(\"MyNet.pth\")"
   ]
  },
  {
   "cell_type": "code",
   "execution_count": null,
   "metadata": {},
   "outputs": [],
   "source": [
    "a = l_net(nd.array(vec))\n",
    "b = [int(i.asscalar()>0.5) for i in a]\n",
    "b.count(1)"
   ]
  },
  {
   "cell_type": "code",
   "execution_count": null,
   "metadata": {},
   "outputs": [],
   "source": [
    "test = pd.read_csv('sample_submission.csv')\n",
    "test.predictions = b\n",
    "\n",
    "test.to_csv('1.csv', index=False)"
   ]
  }
 ],
 "metadata": {
  "kernelspec": {
   "display_name": "Python 3",
   "language": "python",
   "name": "python3"
  },
  "language_info": {
   "codemirror_mode": {
    "name": "ipython",
    "version": 3
   },
   "file_extension": ".py",
   "mimetype": "text/x-python",
   "name": "python",
   "nbconvert_exporter": "python",
   "pygments_lexer": "ipython3",
   "version": "3.7.7"
  }
 },
 "nbformat": 4,
 "nbformat_minor": 2
}
